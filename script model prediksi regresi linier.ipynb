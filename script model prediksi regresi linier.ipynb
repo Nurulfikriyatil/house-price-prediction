{
  "cells": [
    {
      "cell_type": "code",
      "source": [
        "import urllib.request\r\n",
        "import json\r\n",
        "import os\r\n",
        "import ssl\r\n",
        "\r\n",
        "def allowSelfSignedHttps(allowed):\r\n",
        "    # bypass the server certificate verification on client side\r\n",
        "    if allowed and not os.environ.get('PYTHONHTTPSVERIFY', '') and getattr(ssl, '_create_unverified_context', None):\r\n",
        "        ssl._create_default_https_context = ssl._create_unverified_context\r\n",
        "\r\n",
        "allowSelfSignedHttps(True) # this line is needed if you use self-signed certificate in your scoring service.\r\n",
        "\r\n",
        "# Request data goes here\r\n",
        "data = {\r\n",
        "    \"Inputs\": {\r\n",
        "        \"WebServiceInput0\":\r\n",
        "        [\r\n",
        "            {\r\n",
        "                'id': \"2525363215\",\r\n",
        "                'date': \"20201013T000000\",\r\n",
        "                'price': \"356300\",\r\n",
        "                'bedrooms': \"3\",\r\n",
        "                'bathrooms': \"1\",\r\n",
        "                'sqft_living': \"1180\",\r\n",
        "                'sqft_lot': \"5650\",\r\n",
        "                'floors': \"1\",\r\n",
        "                'waterfront': \"0\",\r\n",
        "                'view': \"0\",\r\n",
        "                'condition': \"3\",\r\n",
        "                'grade': \"7\",\r\n",
        "                'sqft_above': \"1180\",\r\n",
        "                'sqft_basement': \"0\",\r\n",
        "                'yr_built': \"1955\",\r\n",
        "                'yr_renovated': \"0\",\r\n",
        "                'zipcode': \"98178\",\r\n",
        "                'lat': \"475.11199999999997\",\r\n",
        "                'long': \"-122.257\",\r\n",
        "                'sqft_living15': \"1340\",\r\n",
        "                'sqft_lot15': \"5650\",\r\n",
        "            },\r\n",
        "        ],\r\n",
        "    },\r\n",
        "    \"GlobalParameters\": {\r\n",
        "    }\r\n",
        "}\r\n",
        "\r\n",
        "body = str.encode(json.dumps(data))\r\n",
        "\r\n",
        "url = 'http://99adaa57-66f2-4526-bab7-ad71b2bc69b0.eastus2.azurecontainer.io/score'\r\n",
        "api_key = 'zSgrLNrbzGifSJseq4HvefYqcEEZ3oCr' # Replace this with the API key for the web service\r\n",
        "headers = {'Content-Type':'application/json', 'Authorization':('Bearer '+ api_key)}\r\n",
        "\r\n",
        "req = urllib.request.Request(url, body, headers)\r\n",
        "\r\n",
        "try:\r\n",
        "    response = urllib.request.urlopen(req)\r\n",
        "\r\n",
        "    result = response.read()\r\n",
        "    print(result)\r\n",
        "except urllib.error.HTTPError as error:\r\n",
        "    print(\"The request failed with status code: \" + str(error.code))\r\n",
        "\r\n",
        "    # Print the headers - they include the requert ID and the timestamp, which are useful for debugging the failure\r\n",
        "    print(error.info())\r\n",
        "    print(json.loads(error.read().decode(\"utf8\", 'ignore')))"
      ],
      "outputs": [
        {
          "output_type": "stream",
          "name": "stdout",
          "text": "b'{\"Results\": {\"output1\": [{\"predicted_price\": 254772715.84991872}]}}'\n"
        }
      ],
      "execution_count": 1,
      "metadata": {
        "gather": {
          "logged": 1638358940744
        }
      }
    }
  ],
  "metadata": {
    "kernelspec": {
      "name": "python3-azureml",
      "language": "python",
      "display_name": "Python 3.6 - AzureML"
    },
    "language_info": {
      "name": "python",
      "version": "3.6.9",
      "mimetype": "text/x-python",
      "codemirror_mode": {
        "name": "ipython",
        "version": 3
      },
      "pygments_lexer": "ipython3",
      "nbconvert_exporter": "python",
      "file_extension": ".py"
    },
    "kernel_info": {
      "name": "python3-azureml"
    },
    "nteract": {
      "version": "nteract-front-end@1.0.0"
    },
    "microsoft": {
      "host": {
        "AzureML": {
          "notebookHasBeenCompleted": true
        }
      }
    }
  },
  "nbformat": 4,
  "nbformat_minor": 2
}